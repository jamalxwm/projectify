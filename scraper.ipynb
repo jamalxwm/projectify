{
 "cells": [
  {
   "cell_type": "code",
   "execution_count": 37,
   "metadata": {},
   "outputs": [
    {
     "name": "stdout",
     "output_type": "stream",
     "text": [
      "{'SONNY FODERA': {'date': 'Friday 15th September'}, 'REPERCUSSION': {'date': 'Saturday 16th September'}, 'BLACK COFFEE': {'date': 'Friday 22nd September'}, 'WORRIED ABOUT HENRY x METROPOLIS': {'date': 'Saturday 23rd September'}, 'KALUKI BIRTHDAY': {'date': 'Friday 29th September'}, 'WELCOME TO THE WAREHOUSE': {'date': 'Saturday 30th September'}, 'GORGON CITY': {'date': 'Friday 6th October'}, 'XXL': {'date': 'Saturday 7th October'}, 'FISHER': {'date': 'Friday 13th October'}, 'BOILER ROOM MANCHESTER': {'date': 'Saturday 14th October'}, 'BEN HEMSLEY': {'date': 'Friday 20th October'}, 'CAMELPHAT': {'date': 'Saturday 21st October'}, 'FUSE HALLOWEEN': {'date': 'Friday 27th October'}, 'WHP ANTWERP': {'date': 'Saturday 28th October'}, 'HALLOWEEN AT THE WAREHOUSE PROJECT': {'date': 'Saturday 28th October'}, 'ANOTR presents: expo': {'date': 'Friday 3rd November'}, 'HOMOBLOC': {'date': 'Saturday 4th November'}, 'LIL TJAY': {'date': 'Tuesday 7th November'}, 'WORRIED ABOUT HENRY': {'date': 'Friday 10th November'}, 'PATRICK TOPPING PRESENTS TRICK': {'date': 'Saturday 11th November'}, 'MUSIC ON': {'date': 'Friday 17th November'}, 'WHP x EAT YOUR OWN EARS PRESENTS ... CURATED BY SKRILLEX': {'date': 'Saturday 18th November'}, 'KNTXT': {'date': 'Friday 24th November'}, 'THE HAÇIENDA RETURNS': {'date': 'Saturday 2nd December'}, 'DEFECTED & GLITTERBOX': {'date': 'Saturday 9th December'}, 'NEW YEARS EVE AT THE WAREHOUSE PROJECT': {'date': 'Sunday 31st December'}}\n"
     ]
    }
   ],
   "source": [
    "import requests\n",
    "from bs4 import BeautifulSoup\n",
    "\n",
    "webpage_response = requests.get('https://www.thewarehouseproject.com/')\n",
    "\n",
    "content = webpage_response.content\n",
    "\n",
    "soup = BeautifulSoup(content, 'html.parser')\n",
    "\n",
    "events = {}\n",
    "\n",
    "for event in soup.select(\".calendar_block_text\"):\n",
    "    header = event.find(class_='calendar_name').get_text().strip()\n",
    "    date = event.find(class_='calendar_block_date').get_text()\n",
    "    events[header] = {'date' : date}\n",
    "\n",
    "print(events)"
   ]
  }
 ],
 "metadata": {
  "kernelspec": {
   "display_name": "base",
   "language": "python",
   "name": "python3"
  },
  "language_info": {
   "codemirror_mode": {
    "name": "ipython",
    "version": 3
   },
   "file_extension": ".py",
   "mimetype": "text/x-python",
   "name": "python",
   "nbconvert_exporter": "python",
   "pygments_lexer": "ipython3",
   "version": "3.11.4"
  },
  "orig_nbformat": 4
 },
 "nbformat": 4,
 "nbformat_minor": 2
}
